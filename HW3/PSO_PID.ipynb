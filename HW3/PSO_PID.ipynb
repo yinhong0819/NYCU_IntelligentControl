{
 "cells": [
  {
   "cell_type": "code",
   "execution_count": 34,
   "metadata": {},
   "outputs": [],
   "source": [
    "import numpy as np\n",
    "import matplotlib.pyplot as plt\n",
    "import control\n",
    "import pylab as py"
   ]
  },
  {
   "cell_type": "code",
   "execution_count": 35,
   "metadata": {},
   "outputs": [],
   "source": [
    "def step_response(x):\n",
    "    Kp = x[0]                 \n",
    "    Ki = x[1]  \n",
    "    Kd = x[2]\n",
    "    PID = control.tf([Kd,Kp,Ki],[1.,0.])   # C(s)\n",
    "\n",
    "    plant = control.tf([1.],[10.,1.])\n",
    "    (num,den)  =  control.pade(1,n=5)       # 用pade近似延遲器\n",
    "    time_delay = control.tf(num,den) \n",
    "    plant = PID * plant * time_delay/(1 + PID * plant * time_delay)           # C(s)G(s)/(1+C(s)G(s))\n",
    "    \n",
    "    t, y = control.step_response(plant,T=10) # step_response()方法求單位步階響應\n",
    "    plt.plot(t, y)\n",
    "    plt.xlabel('Time')\n",
    "    plt.ylabel('Response')\n",
    "    plt.show()"
   ]
  },
  {
   "cell_type": "code",
   "execution_count": 36,
   "metadata": {},
   "outputs": [],
   "source": [
    "def close_loop(Kp,Ki,Kd):\n",
    "    PID = control.tf([Kd,Kp,Ki],[1.,0.])    # C(s)\n",
    "    plant = control.tf([1.],[10.,1.])\n",
    "    (num,den)  =  control.pade(1,n=5)       # 用pade近似延遲器(exp(-s))\n",
    "    time_delay = control.tf(num,den) \n",
    "    \n",
    "    close_loop = PID * plant * time_delay/(1 + PID * plant * time_delay)         # C(s)G(s)/(1+C(s)G(s))\n",
    "    t, y = control.step_response(close_loop,T=10) # step_response()方法求單位步階響應\n",
    "    return t,y"
   ]
  },
  {
   "cell_type": "code",
   "execution_count": 37,
   "metadata": {},
   "outputs": [],
   "source": [
    "def max_overshoot(t,y):\n",
    "    max_value = y[np.argmax(y)]\n",
    "    if max_value < 1:\n",
    "        return 0\n",
    "    else:\n",
    "        return max_value-1"
   ]
  },
  {
   "cell_type": "code",
   "execution_count": 38,
   "metadata": {},
   "outputs": [],
   "source": [
    "def settling_time(t,y,percentage):           #回傳安定時間(從最後的index找回來)\n",
    "    for i in range(y.size):\n",
    "        if (y[y.size-1-i] > 1+percentage or y[y.size-1-i] < 1-percentage) :\n",
    "            return t[y.size-1-i]\n"
   ]
  },
  {
   "cell_type": "code",
   "execution_count": 39,
   "metadata": {},
   "outputs": [],
   "source": [
    "def steady_state_error(t,y):    #穩態誤差\n",
    "    ess = (1-y[y.size-1])\n",
    "    return abs(ess)"
   ]
  },
  {
   "cell_type": "code",
   "execution_count": 40,
   "metadata": {},
   "outputs": [],
   "source": [
    "ideal_Mo=0.05\n",
    "ideal_ts=2\n",
    "ideal_Ess=0"
   ]
  },
  {
   "cell_type": "code",
   "execution_count": 41,
   "metadata": {},
   "outputs": [],
   "source": [
    "def loss(Kp,Ki,kd):\n",
    "    t,y = close_loop(Kp,Ki,kd)\n",
    "    Mo =  max_overshoot(t,y)\n",
    "    ts = settling_time(t,y,0.02)\n",
    "    ess = steady_state_error(t,y)\n",
    "\n",
    "    error = (3*(Mo-ideal_Mo)**2+1*(ts-ideal_ts)**2+2*(ess-ideal_Ess)**2)**(1/2)  #定義loss function\n",
    "    return error"
   ]
  },
  {
   "cell_type": "code",
   "execution_count": 42,
   "metadata": {},
   "outputs": [],
   "source": [
    "#定義PSO參數\n",
    "pop_size = 30             #總共想設計幾組參數組合\n",
    "dimemsion = 3             #每個組合的參數數量\n",
    "max_iter = 30            # maximum number of iterations \n",
    "\n",
    "w = np.linspace(0.9, 0.4, max_iter)                   # Intertial weight.Set to vary with iteration number.\n",
    "\n",
    "c1 = 2.0                  # Weight of searching based on the optima found by a particle\n",
    "c2 = 2.0                  # Weight of searching based on the optima found by the swarm\n",
    "    \n",
    "pbest_val = np.zeros(pop_size)            # Personal best fintess value. One pbest value per particle.\n",
    "gbest_val = np.zeros(max_iter)            # Global best fintess value. One gbest value per iteration (stored).\n",
    "\n",
    "pbest = np.zeros((pop_size,dimemsion))      # pbest solution\n",
    "gbest = np.zeros(dimemsion)                 # gbest solution\n",
    "\n",
    "gbest_store = np.zeros((max_iter,dimemsion))   # storing gbest solution at each iteration\n",
    "\n",
    "pbest_val_avg_store = np.zeros(max_iter)\n",
    "fitness_avg_store = np.zeros(max_iter)\n",
    "\n",
    "# x = np.random.rand(pop_size,dimemsion)           # Initial position of the particles\n",
    "# x = np.random.randn(pop_size,dimemsion)          #隨機產生包含負數的值\n",
    "x = np.random.uniform(0,5,(pop_size,dimemsion))   #隨機產生0~5的值\n",
    "v = np.zeros((pop_size,dimemsion))                # Initial velocity of the particles\n"
   ]
  },
  {
   "cell_type": "code",
   "execution_count": 43,
   "metadata": {},
   "outputs": [
    {
     "name": "stdout",
     "output_type": "stream",
     "text": [
      "Iter. = 0 . gbest_val =  0.13167109284075207\n",
      "Iter. = 1 . gbest_val =  0.13167109284075207\n",
      "Iter. = 2 . gbest_val =  0.13370859895568188\n",
      "Iter. = 3 . gbest_val =  0.15110930117044516\n",
      "Iter. = 4 . gbest_val =  0.44139954001252574\n",
      "Iter. = 5 . gbest_val =  0.44139954001252574\n",
      "Iter. = 6 . gbest_val =  0.44139954001252574\n",
      "Iter. = 7 . gbest_val =  0.44139954001252574\n",
      "Iter. = 8 . gbest_val =  0.44139954001252574\n",
      "Iter. = 9 . gbest_val =  0.6468784944134839\n",
      "Iter. = 10 . gbest_val =  0.6468784944134839\n",
      "Iter. = 11 . gbest_val =  0.6468784944134839\n",
      "Iter. = 12 . gbest_val =  0.6468784944134839\n",
      "Iter. = 13 . gbest_val =  0.6468784944134839\n",
      "Iter. = 14 . gbest_val =  0.6468784944134839\n",
      "Iter. = 15 . gbest_val =  0.6468784944134839\n",
      "Iter. = 16 . gbest_val =  3.2335432093964425\n",
      "Iter. = 17 . gbest_val =  3.2335432093964425\n",
      "Iter. = 18 . gbest_val =  3.2335432093964425\n",
      "Iter. = 19 . gbest_val =  3.2335432093964425\n",
      "Iter. = 20 . gbest_val =  3.724748698865777\n",
      "Iter. = 21 . gbest_val =  4.027449609546577\n",
      "Iter. = 22 . gbest_val =  4.027449609546577\n",
      "Iter. = 23 . gbest_val =  4.027449609546577\n",
      "Iter. = 24 . gbest_val =  4.027449609546577\n",
      "Iter. = 25 . gbest_val =  4.027449609546577\n",
      "Iter. = 26 . gbest_val =  4.027449609546577\n",
      "Iter. = 27 . gbest_val =  4.048396067158951\n",
      "Iter. = 28 . gbest_val =  5.654762332834351\n",
      "Iter. = 29 . gbest_val =  5.654762332834351\n"
     ]
    },
    {
     "data": {
      "text/plain": [
       "Text(0, 0.5, 'Best solution, gbest[:,iter]')"
      ]
     },
     "execution_count": 43,
     "metadata": {},
     "output_type": "execute_result"
    },
    {
     "data": {
      "image/png": "[encoded data removed]",
      "text/plain": [
       "<Figure size 432x288 with 1 Axes>"
      ]
     },
     "metadata": {
      "needs_background": "light"
     },
     "output_type": "display_data"
    },
    {
     "data": {
      "image/png": "[encoded data removed]",
      "text/plain": [
       "<Figure size 432x288 with 1 Axes>"
      ]
     },
     "metadata": {
      "needs_background": "light"
     },
     "output_type": "display_data"
    }
   ],
   "source": [
    "# Loop over the generations\n",
    "for iter in range(0,max_iter):\n",
    "    error = []\n",
    "    fitness = []\n",
    "    for i in range(pop_size):      #每次迭代先算出30組particle的fitness\n",
    "        Kp = x[i,0]                 \n",
    "        Ki = x[i,1]  \n",
    "        Kd = x[i,2]  \n",
    "        for k in range(dimemsion): #限制參數範圍0~15\n",
    "            if (x[i,k]<0):\n",
    "                x[i,k]=0\n",
    "            if (x[i,k]>15):\n",
    "                x[i,k]=15\n",
    "\n",
    "        error.append(loss(Kp,Ki,Kd))\n",
    "        fitness = 1 / np.array(error)\n",
    "    \n",
    "    if iter == 0:\n",
    "        pbest_val = fitness            # initial personal best = initial fitness values. Vector of size Np\n",
    "        pbest = x                   # initial pbest solution = initial position. Matrix of size D x Np\n",
    "        \n",
    "    else:\n",
    "        # pbest and pbest_val update\n",
    "        ind = np.argwhere(fitness > pbest_val)   # indices where current fitness value set is greater than pbset\n",
    "        pbest_val[ind] = fitness[ind]   # update pbset_val at those particle indices where fit > pbest_val\n",
    "        pbest[ind,:] = x[ind,:]     # update pbest for those particle indices where fit > pbest_val \n",
    "             \n",
    "                    \n",
    "    if iter > 0:                                      # Do not update postion for 0th iteration\n",
    "        r1 = np.random.rand(pop_size,dimemsion)       # random numbers [0,1]\n",
    "        r2 = np.random.rand(pop_size,dimemsion)       # random numbers [0,1]  \n",
    "        v_global = np.multiply((gbest-x),r2)*c2       # velocity towards global optima\n",
    "        v_local  = np.multiply((pbest-x),r1)*c1       # velocity towards local optima (pbest)\n",
    "        \n",
    "        v = w[iter]*v + (v_local + v_global)          # velocity update (w隨著迭代次數增加而下降)\n",
    "        x = x + v                                     # position update\n",
    "    \n",
    "                \n",
    "    # gbest and gbest_val update\n",
    "    ind2 = np.argmax(pbest_val)              # index where the fitness is maximum\n",
    "    gbest_val[iter] = pbest_val[ind2]        # 所有個體最佳解的最大值及為群體最佳解\n",
    "    gbest = pbest[ind2,:]                    # global best solution, gbest\n",
    "        \n",
    "    gbest_store[iter,:] = gbest              # store gbest solution\n",
    "        \n",
    "    pbest_val_avg_store[iter] = np.mean(pbest_val)\n",
    "    fitness_avg_store[iter] = np.mean(fitness)\n",
    "    print(\"Iter. =\", iter, \". gbest_val = \", gbest_val[iter])  # print iteration no. and best solution at each iteration\n",
    "    \n",
    "# Plotting\n",
    "py.close('all')\n",
    "py.plot(gbest_val,label = 'gbest_val')\n",
    "py.plot(pbest_val_avg_store, label = 'Avg. pbest')\n",
    "py.plot(fitness_avg_store, label = 'Avg. fitness')\n",
    "py.legend()\n",
    "#py.gca().set(xlabel='iterations', ylabel='fitness, gbest_val')\n",
    "\n",
    "py.xlabel('iterations')\n",
    "py.ylabel('fitness, gbest_val')\n",
    "py.figure()\n",
    "\n",
    "\n",
    "for m in range(dimemsion):\n",
    "    py.plot(gbest_store[:,m],label = 'D = ' + str(m+1))\n",
    "    \n",
    "py.legend()\n",
    "py.xlabel('iterations')\n",
    "py.ylabel('Best solution, gbest[:,iter]')"
   ]
  },
  {
   "cell_type": "code",
   "execution_count": 44,
   "metadata": {},
   "outputs": [
    {
     "name": "stdout",
     "output_type": "stream",
     "text": [
      "[7.52069123 0.73857838 2.82219986]\n"
     ]
    },
    {
     "data": {
      "image/png": "[encoded data removed]",
      "text/plain": [
       "<Figure size 432x288 with 1 Axes>"
      ]
     },
     "metadata": {
      "needs_background": "light"
     },
     "output_type": "display_data"
    },
    {
     "data": {
      "image/png": "[encoded data removed]",
      "text/plain": [
       "<Figure size 432x288 with 1 Axes>"
      ]
     },
     "metadata": {
      "needs_background": "light"
     },
     "output_type": "display_data"
    },
    {
     "data": {
      "text/plain": [
       "0.17684209187599356"
      ]
     },
     "execution_count": 44,
     "metadata": {},
     "output_type": "execute_result"
    }
   ],
   "source": [
    "print(gbest)\n",
    "step_response(gbest_store[0,:])  #一開始的gbest響應\n",
    "step_response(gbest)             #100次迭代後的gbest響應\n",
    "loss(gbest[0],gbest[1],gbest[2])"
   ]
  }
 ],
 "metadata": {
  "kernelspec": {
   "display_name": "Python 3.9.12 ('base')",
   "language": "python",
   "name": "python3"
  },
  "language_info": {
   "codemirror_mode": {
    "name": "ipython",
    "version": 3
   },
   "file_extension": ".py",
   "mimetype": "text/x-python",
   "name": "python",
   "nbconvert_exporter": "python",
   "pygments_lexer": "ipython3",
   "version": "3.9.12"
  },
  "orig_nbformat": 4,
  "vscode": {
   "interpreter": {
    "hash": "87b107bea13c34e492bbc2e8feae2d557e2641698ab0bcf705ce9f430b71b885"
   }
  }
 },
 "nbformat": 4,
 "nbformat_minor": 2
}
