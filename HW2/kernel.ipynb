{
 "cells": [
  {
   "cell_type": "code",
   "execution_count": 186,
   "metadata": {},
   "outputs": [],
   "source": [
    "import numpy as np\n",
    "import matplotlib.pyplot as plt"
   ]
  },
  {
   "cell_type": "code",
   "execution_count": 187,
   "metadata": {},
   "outputs": [],
   "source": [
    "X = np.array([[0,0],[0,1],[1,0],[1,1]])\n",
    "Y = np.array([-1,1,1,-1])"
   ]
  },
  {
   "cell_type": "code",
   "execution_count": 188,
   "metadata": {},
   "outputs": [
    {
     "data": {
      "image/png": "[encoded data removed]",
      "text/plain": [
       "<Figure size 432x288 with 1 Axes>"
      ]
     },
     "metadata": {
      "needs_background": "light"
     },
     "output_type": "display_data"
    }
   ],
   "source": [
    "fig = plt.figure()\n",
    "plt.scatter(X[Y==-1, 0], X[Y==-1, 1], label='class 0', marker='o')\n",
    "plt.scatter(X[Y==1, 0], X[Y==1, 1], label='class 1', marker='s') \n",
    "plt.show()"
   ]
  },
  {
   "cell_type": "code",
   "execution_count": 189,
   "metadata": {},
   "outputs": [],
   "source": [
    "# 2維映射到3維\n",
    "def mapping(x):    \n",
    "    x_1 = x[:,0]**2        \n",
    "    x_2 = np.sqrt(2)*x[:,0]*x[:,1]        \n",
    "    x_3 = x[:,1]**2\t\t\t    \n",
    "    trans_x = np.array([x_1, x_2, x_3])\t\t\t\t\n",
    "    return trans_x"
   ]
  },
  {
   "cell_type": "code",
   "execution_count": 190,
   "metadata": {},
   "outputs": [
    {
     "data": {
      "image/png": "[encoded data removed]",
      "text/plain": [
       "<Figure size 432x288 with 1 Axes>"
      ]
     },
     "metadata": {
      "needs_background": "light"
     },
     "output_type": "display_data"
    }
   ],
   "source": [
    "x_1  = mapping(X)          #X_1的shape為(3,4)\n",
    "fig = plt.figure()\n",
    "ax = fig.add_subplot(111, projection='3d')\n",
    "ax.scatter(x_1[0], x_1[1], x_1[2], c=Y, s=60)  #依序在三維空間中畫出4個點\n",
    "ax.view_init(30, 185)\n",
    "ax.set_xlabel('X Label')\n",
    "ax.set_ylabel('Y Label')\n",
    "ax.set_zlabel('Z Label')\n",
    "plt.show()"
   ]
  },
  {
   "cell_type": "code",
   "execution_count": 191,
   "metadata": {},
   "outputs": [],
   "source": [
    "#多項式kernel(degree=2): k(a,b) = (<a^T, b>)²\n",
    "def kernelfun(a,b):\n",
    "    if (a.shape!=(1,2) or b.shape!=(1,2)):       #mapping需要二維的資料\n",
    "        a=a.reshape(1,2)\n",
    "        b=b.reshape(1,2)\n",
    "    return int(np.dot(mapping(a).T,mapping(b)))\n",
    "\n",
    "def sign(z):\n",
    "    if z > 0:\n",
    "        return 1\n",
    "    else:\n",
    "        return -1"
   ]
  },
  {
   "cell_type": "code",
   "execution_count": 192,
   "metadata": {},
   "outputs": [],
   "source": [
    "def error_num(X,Y,a):\n",
    "    error = 0\n",
    "    for s in range(len(X)):\n",
    "        sum = 0\n",
    "        for j in range(len(X)):\n",
    "            g = a[j]*Y[j]*kernelfun(X[j],X[s])\n",
    "            sum += g\n",
    "        if sign(sum) != Y[s]:\n",
    "            error += 1\n",
    "    return error    "
   ]
  },
  {
   "cell_type": "code",
   "execution_count": 193,
   "metadata": {},
   "outputs": [],
   "source": [
    "a = np.array([0,0,0,0])\n",
    "numIter = 100\n",
    "def kernelperceptron(X,Y,a):\n",
    "    count = 0\n",
    "    while error_num(X,Y,a) !=0 and count < numIter :\n",
    "        for s in range(len(X)):\n",
    "            sum = 0\n",
    "            for j in range(len(X)):\n",
    "                g = a[j]*Y[j]*kernelfun(X[j],X[s])\n",
    "                sum += g\n",
    "            print(\"sum(s={})={}    g(s={})={}\".format(s,sum,s,sign(sum)))\n",
    "            if Y[s]*sum <= 0:\n",
    "                a[s] += 1\n",
    "        count += 1\n",
    "        print(\"第{}次迭代結束\".format(count))\n",
    "        print(\"a=\",a)\n",
    "    else:\n",
    "        print(\"分類完成\")\n",
    "    return a"
   ]
  },
  {
   "cell_type": "code",
   "execution_count": 194,
   "metadata": {},
   "outputs": [
    {
     "name": "stdout",
     "output_type": "stream",
     "text": [
      "sum(s=0)=0    g(s=0)=-1\n",
      "sum(s=1)=0    g(s=1)=-1\n",
      "sum(s=2)=0    g(s=2)=-1\n",
      "sum(s=3)=2    g(s=3)=1\n",
      "第1次迭代結束\n",
      "a= [1 1 1 1]\n",
      "sum(s=0)=0    g(s=0)=-1\n",
      "sum(s=1)=0    g(s=1)=-1\n",
      "sum(s=2)=0    g(s=2)=-1\n",
      "sum(s=3)=0    g(s=3)=-1\n",
      "第2次迭代結束\n",
      "a= [2 2 2 2]\n",
      "sum(s=0)=0    g(s=0)=-1\n",
      "sum(s=1)=0    g(s=1)=-1\n",
      "sum(s=2)=0    g(s=2)=-1\n",
      "sum(s=3)=-2    g(s=3)=-1\n",
      "第3次迭代結束\n",
      "a= [3 3 3 2]\n",
      "分類完成\n"
     ]
    }
   ],
   "source": [
    "vector = kernelperceptron(X,Y,a)"
   ]
  }
 ],
 "metadata": {
  "kernelspec": {
   "display_name": "Python 3.9.7 ('base')",
   "language": "python",
   "name": "python3"
  },
  "language_info": {
   "codemirror_mode": {
    "name": "ipython",
    "version": 3
   },
   "file_extension": ".py",
   "mimetype": "text/x-python",
   "name": "python",
   "nbconvert_exporter": "python",
   "pygments_lexer": "ipython3",
   "version": "3.9.7 (default, Sep 16 2021, 16:59:28) [MSC v.1916 64 bit (AMD64)]"
  },
  "orig_nbformat": 4,
  "vscode": {
   "interpreter": {
    "hash": "87b107bea13c34e492bbc2e8feae2d557e2641698ab0bcf705ce9f430b71b885"
   }
  }
 },
 "nbformat": 4,
 "nbformat_minor": 2
}
